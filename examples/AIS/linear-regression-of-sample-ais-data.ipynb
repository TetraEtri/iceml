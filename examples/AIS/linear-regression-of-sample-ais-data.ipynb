{
 "cells": [
  {
   "cell_type": "code",
   "execution_count": 1,
   "metadata": {
    "collapsed": true
   },
   "outputs": [],
   "source": [
    "import pandas as pd\n",
    "import numpy as np\n",
    "import os\n",
    "import seaborn as sns\n",
    "import matplotlib.pyplot as plt\n",
    "from io import StringIO\n",
    "\n",
    "%matplotlib inline\n",
    "plt.style.use('seaborn')\n",
    "\n",
    "locations_csv = StringIO(\"\"\"timestamp,mmsi,lon,lat,sog,cog,heading\n",
    "2018-03-19 07:16:03.114,266232000,24.28642667,65.184065,13.7,92.8,92\n",
    "2018-03-19 07:17:03.202,266232000,24.29567667,65.18406833,14.2,88.1,89\n",
    "2018-03-19 07:18:02.787,266232000,24.30479,65.18403167,14,90.8,90\n",
    "2018-03-19 07:18:56.815,266232000,24.31323667,65.18398167,14.1,91.4,91\n",
    "2018-03-19 07:19:50.959,266232000,24.32111333,65.18374667,13.6,93,93\n",
    "2018-03-19 07:21:38.54,266232000,24.337,65.18353,13.1,93,93\"\"\")\n"
   ]
  },
  {
   "cell_type": "markdown",
   "metadata": {},
   "source": [
    "Read the sample CSV data to a Pandas dataframe (see [Pandas documentation](http://pandas.pydata.org/pandas-docs/version/0.21/10min.html) and [cheat sheet](https://www.dataquest.io/blog/large_files/pandas-cheat-sheet.pdf))"
   ]
  },
  {
   "cell_type": "code",
   "execution_count": 2,
   "metadata": {
    "collapsed": true
   },
   "outputs": [],
   "source": [
    "df = pd.read_csv(locations_csv, sep=\",\")"
   ]
  },
  {
   "cell_type": "markdown",
   "metadata": {},
   "source": [
    "Show the contents of the data frame:"
   ]
  },
  {
   "cell_type": "code",
   "execution_count": 3,
   "metadata": {
    "scrolled": false
   },
   "outputs": [
    {
     "data": {
      "text/html": [
       "<div>\n",
       "<style>\n",
       "    .dataframe thead tr:only-child th {\n",
       "        text-align: right;\n",
       "    }\n",
       "\n",
       "    .dataframe thead th {\n",
       "        text-align: left;\n",
       "    }\n",
       "\n",
       "    .dataframe tbody tr th {\n",
       "        vertical-align: top;\n",
       "    }\n",
       "</style>\n",
       "<table border=\"1\" class=\"dataframe\">\n",
       "  <thead>\n",
       "    <tr style=\"text-align: right;\">\n",
       "      <th></th>\n",
       "      <th>timestamp</th>\n",
       "      <th>mmsi</th>\n",
       "      <th>lon</th>\n",
       "      <th>lat</th>\n",
       "      <th>sog</th>\n",
       "      <th>cog</th>\n",
       "      <th>heading</th>\n",
       "    </tr>\n",
       "  </thead>\n",
       "  <tbody>\n",
       "    <tr>\n",
       "      <th>0</th>\n",
       "      <td>2018-03-19 07:16:03.114</td>\n",
       "      <td>266232000</td>\n",
       "      <td>24.286427</td>\n",
       "      <td>65.184065</td>\n",
       "      <td>13.7</td>\n",
       "      <td>92.8</td>\n",
       "      <td>92</td>\n",
       "    </tr>\n",
       "    <tr>\n",
       "      <th>1</th>\n",
       "      <td>2018-03-19 07:17:03.202</td>\n",
       "      <td>266232000</td>\n",
       "      <td>24.295677</td>\n",
       "      <td>65.184068</td>\n",
       "      <td>14.2</td>\n",
       "      <td>88.1</td>\n",
       "      <td>89</td>\n",
       "    </tr>\n",
       "    <tr>\n",
       "      <th>2</th>\n",
       "      <td>2018-03-19 07:18:02.787</td>\n",
       "      <td>266232000</td>\n",
       "      <td>24.304790</td>\n",
       "      <td>65.184032</td>\n",
       "      <td>14.0</td>\n",
       "      <td>90.8</td>\n",
       "      <td>90</td>\n",
       "    </tr>\n",
       "    <tr>\n",
       "      <th>3</th>\n",
       "      <td>2018-03-19 07:18:56.815</td>\n",
       "      <td>266232000</td>\n",
       "      <td>24.313237</td>\n",
       "      <td>65.183982</td>\n",
       "      <td>14.1</td>\n",
       "      <td>91.4</td>\n",
       "      <td>91</td>\n",
       "    </tr>\n",
       "    <tr>\n",
       "      <th>4</th>\n",
       "      <td>2018-03-19 07:19:50.959</td>\n",
       "      <td>266232000</td>\n",
       "      <td>24.321113</td>\n",
       "      <td>65.183747</td>\n",
       "      <td>13.6</td>\n",
       "      <td>93.0</td>\n",
       "      <td>93</td>\n",
       "    </tr>\n",
       "    <tr>\n",
       "      <th>5</th>\n",
       "      <td>2018-03-19 07:21:38.54</td>\n",
       "      <td>266232000</td>\n",
       "      <td>24.337000</td>\n",
       "      <td>65.183530</td>\n",
       "      <td>13.1</td>\n",
       "      <td>93.0</td>\n",
       "      <td>93</td>\n",
       "    </tr>\n",
       "  </tbody>\n",
       "</table>\n",
       "</div>"
      ],
      "text/plain": [
       "                 timestamp       mmsi        lon        lat   sog   cog  \\\n",
       "0  2018-03-19 07:16:03.114  266232000  24.286427  65.184065  13.7  92.8   \n",
       "1  2018-03-19 07:17:03.202  266232000  24.295677  65.184068  14.2  88.1   \n",
       "2  2018-03-19 07:18:02.787  266232000  24.304790  65.184032  14.0  90.8   \n",
       "3  2018-03-19 07:18:56.815  266232000  24.313237  65.183982  14.1  91.4   \n",
       "4  2018-03-19 07:19:50.959  266232000  24.321113  65.183747  13.6  93.0   \n",
       "5   2018-03-19 07:21:38.54  266232000  24.337000  65.183530  13.1  93.0   \n",
       "\n",
       "   heading  \n",
       "0       92  \n",
       "1       89  \n",
       "2       90  \n",
       "3       91  \n",
       "4       93  \n",
       "5       93  "
      ]
     },
     "execution_count": 3,
     "metadata": {},
     "output_type": "execute_result"
    }
   ],
   "source": [
    "df"
   ]
  },
  {
   "cell_type": "markdown",
   "metadata": {},
   "source": [
    "Draw a scatter plot:"
   ]
  },
  {
   "cell_type": "code",
   "execution_count": 4,
   "metadata": {},
   "outputs": [
    {
     "data": {
      "text/plain": [
       "<matplotlib.collections.PathCollection at 0x1f3b0955710>"
      ]
     },
     "execution_count": 4,
     "metadata": {},
     "output_type": "execute_result"
    },
    {
     "data": {
      "image/png": "[encoded data removed]",
      "text/plain": [
       "<matplotlib.figure.Figure at 0x1f3b06b3f60>"
      ]
     },
     "metadata": {},
     "output_type": "display_data"
    }
   ],
   "source": [
    "plt.scatter('lon', 'lat', data=df)"
   ]
  },
  {
   "cell_type": "markdown",
   "metadata": {},
   "source": [
    "Todo: fit a linear regression model to this dataset and predict the latitude (y-axis) when the longitude x-axis) was, for example, 24.33"
   ]
  },
  {
   "cell_type": "code",
   "execution_count": null,
   "metadata": {
    "collapsed": true
   },
   "outputs": [],
   "source": []
  }
 ],
 "metadata": {
  "kernelspec": {
   "display_name": "Python 3",
   "language": "python",
   "name": "python3"
  },
  "language_info": {
   "codemirror_mode": {
    "name": "ipython",
    "version": 3
   },
   "file_extension": ".py",
   "mimetype": "text/x-python",
   "name": "python",
   "nbconvert_exporter": "python",
   "pygments_lexer": "ipython3",
   "version": "3.6.3"
  }
 },
 "nbformat": 4,
 "nbformat_minor": 2
}
