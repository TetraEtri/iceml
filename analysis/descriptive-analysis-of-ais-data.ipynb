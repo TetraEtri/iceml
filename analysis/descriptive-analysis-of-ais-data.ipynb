{
 "cells": [
  {
   "cell_type": "code",
   "execution_count": 1,
   "metadata": {
    "collapsed": true
   },
   "outputs": [],
   "source": [
    "import pandas as pd\n",
    "import numpy as np\n",
    "import os\n",
    "import seaborn as sns\n",
    "import matplotlib.pyplot as plt\n",
    "from sklearn import linear_model\n",
    "\n",
    "%matplotlib inline\n",
    "plt.style.use('seaborn')\n",
    "\n",
    "DATA_DIR = \"../bigdata/\""
   ]
  },
  {
   "cell_type": "code",
   "execution_count": 2,
   "metadata": {},
   "outputs": [
    {
     "data": {
      "text/plain": [
       "8425108"
      ]
     },
     "execution_count": 2,
     "metadata": {},
     "output_type": "execute_result"
    }
   ],
   "source": [
    "df = pd.read_csv(DATA_DIR + 'ais-observations-1-week-20180315.csv')"
   ]
  },
  {
   "cell_type": "code",
   "execution_count": 4,
   "metadata": {},
   "outputs": [
    {
     "data": {
      "text/html": [
       "<div>\n",
       "<style>\n",
       "    .dataframe thead tr:only-child th {\n",
       "        text-align: right;\n",
       "    }\n",
       "\n",
       "    .dataframe thead th {\n",
       "        text-align: left;\n",
       "    }\n",
       "\n",
       "    .dataframe tbody tr th {\n",
       "        vertical-align: top;\n",
       "    }\n",
       "</style>\n",
       "<table border=\"1\" class=\"dataframe\">\n",
       "  <thead>\n",
       "    <tr style=\"text-align: right;\">\n",
       "      <th></th>\n",
       "      <th>timestamp</th>\n",
       "      <th>mmsi</th>\n",
       "      <th>lon</th>\n",
       "      <th>lat</th>\n",
       "      <th>sog</th>\n",
       "      <th>cog</th>\n",
       "      <th>heading</th>\n",
       "    </tr>\n",
       "  </thead>\n",
       "  <tbody>\n",
       "    <tr>\n",
       "      <th>0</th>\n",
       "      <td>2018-03-20 10:12:46.014</td>\n",
       "      <td>230068740</td>\n",
       "      <td>28.944513</td>\n",
       "      <td>61.844122</td>\n",
       "      <td>0.0</td>\n",
       "      <td>338.4</td>\n",
       "      <td>177</td>\n",
       "    </tr>\n",
       "    <tr>\n",
       "      <th>1</th>\n",
       "      <td>2018-03-20 10:12:46.016</td>\n",
       "      <td>230252000</td>\n",
       "      <td>22.699115</td>\n",
       "      <td>64.149142</td>\n",
       "      <td>14.1</td>\n",
       "      <td>335.2</td>\n",
       "      <td>335</td>\n",
       "    </tr>\n",
       "    <tr>\n",
       "      <th>2</th>\n",
       "      <td>2018-03-20 10:12:46.021</td>\n",
       "      <td>230071310</td>\n",
       "      <td>27.696937</td>\n",
       "      <td>62.891782</td>\n",
       "      <td>0.0</td>\n",
       "      <td>279.6</td>\n",
       "      <td>511</td>\n",
       "    </tr>\n",
       "    <tr>\n",
       "      <th>3</th>\n",
       "      <td>2018-03-20 10:12:46.023</td>\n",
       "      <td>230938570</td>\n",
       "      <td>21.217443</td>\n",
       "      <td>62.358643</td>\n",
       "      <td>0.0</td>\n",
       "      <td>188.6</td>\n",
       "      <td>207</td>\n",
       "    </tr>\n",
       "    <tr>\n",
       "      <th>4</th>\n",
       "      <td>2018-03-20 10:12:46.024</td>\n",
       "      <td>265182000</td>\n",
       "      <td>22.251873</td>\n",
       "      <td>64.742827</td>\n",
       "      <td>8.7</td>\n",
       "      <td>74.9</td>\n",
       "      <td>74</td>\n",
       "    </tr>\n",
       "  </tbody>\n",
       "</table>\n",
       "</div>"
      ],
      "text/plain": [
       "                 timestamp       mmsi        lon        lat   sog    cog  \\\n",
       "0  2018-03-20 10:12:46.014  230068740  28.944513  61.844122   0.0  338.4   \n",
       "1  2018-03-20 10:12:46.016  230252000  22.699115  64.149142  14.1  335.2   \n",
       "2  2018-03-20 10:12:46.021  230071310  27.696937  62.891782   0.0  279.6   \n",
       "3  2018-03-20 10:12:46.023  230938570  21.217443  62.358643   0.0  188.6   \n",
       "4  2018-03-20 10:12:46.024  265182000  22.251873  64.742827   8.7   74.9   \n",
       "\n",
       "   heading  \n",
       "0      177  \n",
       "1      335  \n",
       "2      511  \n",
       "3      207  \n",
       "4       74  "
      ]
     },
     "execution_count": 4,
     "metadata": {},
     "output_type": "execute_result"
    }
   ],
   "source": [
    "df.head()"
   ]
  },
  {
   "cell_type": "markdown",
   "metadata": {},
   "source": [
    "### How many vessels are there in this data set?"
   ]
  },
  {
   "cell_type": "code",
   "execution_count": 3,
   "metadata": {},
   "outputs": [
    {
     "data": {
      "text/plain": [
       "256"
      ]
     },
     "execution_count": 3,
     "metadata": {},
     "output_type": "execute_result"
    }
   ],
   "source": [
    "df['mmsi'].nunique()"
   ]
  },
  {
   "cell_type": "markdown",
   "metadata": {},
   "source": [
    "### A 'quick' and dirty map visualization (can take a minute or two to render)"
   ]
  },
  {
   "cell_type": "code",
   "execution_count": 6,
   "metadata": {},
   "outputs": [
    {
     "data": {
      "text/plain": [
       "<matplotlib.collections.PathCollection at 0x2710019a198>"
      ]
     },
     "execution_count": 6,
     "metadata": {},
     "output_type": "execute_result"
    },
    {
     "data": {
      "image/png": "[encoded data removed]",
      "text/plain": [
       "<matplotlib.figure.Figure at 0x27151066518>"
      ]
     },
     "metadata": {},
     "output_type": "display_data"
    }
   ],
   "source": [
    "plt.scatter(df.lon, df.lat)"
   ]
  },
  {
   "cell_type": "code",
   "execution_count": null,
   "metadata": {
    "collapsed": true
   },
   "outputs": [],
   "source": []
  }
 ],
 "metadata": {
  "kernelspec": {
   "display_name": "Python 3",
   "language": "python",
   "name": "python3"
  },
  "language_info": {
   "codemirror_mode": {
    "name": "ipython",
    "version": 3
   },
   "file_extension": ".py",
   "mimetype": "text/x-python",
   "name": "python",
   "nbconvert_exporter": "python",
   "pygments_lexer": "ipython3",
   "version": "3.6.3"
  }
 },
 "nbformat": 4,
 "nbformat_minor": 2
}
